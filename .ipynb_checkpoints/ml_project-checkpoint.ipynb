{
 "cells": [
  {
   "cell_type": "code",
   "execution_count": 0,
   "metadata": {
    "colab": {},
    "colab_type": "code",
    "id": "jnIkqyGPivQt"
   },
   "outputs": [],
   "source": [
    "import numpy as np\n",
    "import matplotlib.pyplot as plt\n",
    "%matplotlib inline\n",
    "import pandas as pd\n",
    "import nltk\n",
    "import pickle\n",
    "import tensorflow as tf\n",
    "from sklearn.feature_extraction.text import CountVectorizer\n",
    "from sklearn.linear_model import LinearRegression\n",
    "from sklearn.metrics import r2_score\n",
    "from sklearn.model_selection import train_test_split\n",
    "from sklearn import datasets, linear_model\n",
    "from sklearn import svm\n"
   ]
  },
  {
   "cell_type": "markdown",
   "metadata": {
    "colab_type": "text",
    "id": "i-n7ZNX-aBnw"
   },
   "source": [
    "# **Loading data from Github repo**"
   ]
  },
  {
   "cell_type": "code",
   "execution_count": 2,
   "metadata": {
    "colab": {
     "base_uri": "https://localhost:8080/",
     "height": 434
    },
    "colab_type": "code",
    "executionInfo": {
     "elapsed": 3975,
     "status": "ok",
     "timestamp": 1588463436418,
     "user": {
      "displayName": "Hitomi Akitsuki",
      "photoUrl": "https://lh3.googleusercontent.com/a-/AOh14Gj-LWHux3v5rLtYipRE5hfUWfqT2ja8avj4B0mh=s64",
      "userId": "15575281482611298892"
     },
     "user_tz": 240
    },
    "id": "PtdAlRbFjeIr",
    "outputId": "2d72f7d3-bbc7-41d1-8e66-3a0f6b2179ab"
   },
   "outputs": [
    {
     "name": "stderr",
     "output_type": "stream",
     "text": [
      "/usr/local/lib/python3.6/dist-packages/IPython/core/interactiveshell.py:2718: DtypeWarning: Columns (0,2,6,7,9,10,11,13,14,15) have mixed types.Specify dtype option on import or set low_memory=False.\n",
      "  interactivity=interactivity, compiler=compiler, result=result)\n"
     ]
    },
    {
     "data": {
      "text/html": [
       "<div>\n",
       "<style scoped>\n",
       "    .dataframe tbody tr th:only-of-type {\n",
       "        vertical-align: middle;\n",
       "    }\n",
       "\n",
       "    .dataframe tbody tr th {\n",
       "        vertical-align: top;\n",
       "    }\n",
       "\n",
       "    .dataframe thead th {\n",
       "        text-align: right;\n",
       "    }\n",
       "</style>\n",
       "<table border=\"1\" class=\"dataframe\">\n",
       "  <thead>\n",
       "    <tr style=\"text-align: right;\">\n",
       "      <th></th>\n",
       "      <th>id</th>\n",
       "      <th>name</th>\n",
       "      <th>host_id</th>\n",
       "      <th>host_name</th>\n",
       "      <th>neighbourhood_group</th>\n",
       "      <th>neighbourhood</th>\n",
       "      <th>latitude</th>\n",
       "      <th>longitude</th>\n",
       "      <th>room_type</th>\n",
       "      <th>price</th>\n",
       "      <th>minimum_nights</th>\n",
       "      <th>number_of_reviews</th>\n",
       "      <th>last_review</th>\n",
       "      <th>reviews_per_month</th>\n",
       "      <th>calculated_host_listings_count</th>\n",
       "      <th>availability_365</th>\n",
       "    </tr>\n",
       "  </thead>\n",
       "  <tbody>\n",
       "    <tr>\n",
       "      <th>0</th>\n",
       "      <td>id</td>\n",
       "      <td>name</td>\n",
       "      <td>host_id</td>\n",
       "      <td>host_name</td>\n",
       "      <td>neighbourhood_group</td>\n",
       "      <td>neighbourhood</td>\n",
       "      <td>latitude</td>\n",
       "      <td>longitude</td>\n",
       "      <td>room_type</td>\n",
       "      <td>price</td>\n",
       "      <td>minimum_nights</td>\n",
       "      <td>number_of_reviews</td>\n",
       "      <td>last_review</td>\n",
       "      <td>reviews_per_month</td>\n",
       "      <td>calculated_host_listings_count</td>\n",
       "      <td>availability_365</td>\n",
       "    </tr>\n",
       "    <tr>\n",
       "      <th>1</th>\n",
       "      <td>2539</td>\n",
       "      <td>Clean &amp; quiet apt home by the park</td>\n",
       "      <td>2787</td>\n",
       "      <td>John</td>\n",
       "      <td>Brooklyn</td>\n",
       "      <td>Kensington</td>\n",
       "      <td>40.64749</td>\n",
       "      <td>-73.97237</td>\n",
       "      <td>Private room</td>\n",
       "      <td>149</td>\n",
       "      <td>1</td>\n",
       "      <td>9</td>\n",
       "      <td>2018-10-19</td>\n",
       "      <td>0.21</td>\n",
       "      <td>6</td>\n",
       "      <td>365</td>\n",
       "    </tr>\n",
       "    <tr>\n",
       "      <th>2</th>\n",
       "      <td>2595</td>\n",
       "      <td>Skylit Midtown Castle</td>\n",
       "      <td>2845</td>\n",
       "      <td>Jennifer</td>\n",
       "      <td>Manhattan</td>\n",
       "      <td>Midtown</td>\n",
       "      <td>40.75362</td>\n",
       "      <td>-73.98377</td>\n",
       "      <td>Entire home/apt</td>\n",
       "      <td>225</td>\n",
       "      <td>1</td>\n",
       "      <td>45</td>\n",
       "      <td>2019-05-21</td>\n",
       "      <td>0.38</td>\n",
       "      <td>2</td>\n",
       "      <td>355</td>\n",
       "    </tr>\n",
       "    <tr>\n",
       "      <th>4</th>\n",
       "      <td>3831</td>\n",
       "      <td>Cozy Entire Floor of Brownstone</td>\n",
       "      <td>4869</td>\n",
       "      <td>LisaRoxanne</td>\n",
       "      <td>Brooklyn</td>\n",
       "      <td>Clinton Hill</td>\n",
       "      <td>40.68514</td>\n",
       "      <td>-73.95976</td>\n",
       "      <td>Entire home/apt</td>\n",
       "      <td>89</td>\n",
       "      <td>1</td>\n",
       "      <td>270</td>\n",
       "      <td>2019-07-05</td>\n",
       "      <td>4.64</td>\n",
       "      <td>1</td>\n",
       "      <td>194</td>\n",
       "    </tr>\n",
       "    <tr>\n",
       "      <th>5</th>\n",
       "      <td>5022</td>\n",
       "      <td>Entire Apt: Spacious Studio/Loft by central park</td>\n",
       "      <td>7192</td>\n",
       "      <td>Laura</td>\n",
       "      <td>Manhattan</td>\n",
       "      <td>East Harlem</td>\n",
       "      <td>40.79851</td>\n",
       "      <td>-73.94399</td>\n",
       "      <td>Entire home/apt</td>\n",
       "      <td>80</td>\n",
       "      <td>10</td>\n",
       "      <td>9</td>\n",
       "      <td>2018-11-19</td>\n",
       "      <td>0.10</td>\n",
       "      <td>1</td>\n",
       "      <td>0</td>\n",
       "    </tr>\n",
       "  </tbody>\n",
       "</table>\n",
       "</div>"
      ],
      "text/plain": [
       "     id  ...  availability_365\n",
       "0    id  ...  availability_365\n",
       "1  2539  ...               365\n",
       "2  2595  ...               355\n",
       "4  3831  ...               194\n",
       "5  5022  ...                 0\n",
       "\n",
       "[5 rows x 16 columns]"
      ]
     },
     "execution_count": 2,
     "metadata": {
      "tags": []
     },
     "output_type": "execute_result"
    }
   ],
   "source": [
    "names = ['id',\t'name',\t'host_id',\t'host_name',\t'neighbourhood_group',\t'neighbourhood',\t'latitude',\t\n",
    "         'longitude',\t'room_type',\t'price',\t'minimum_nights',\t'number_of_reviews',\t'last_review',\t\n",
    "         'reviews_per_month',\t'calculated_host_listings_count',\t'availability_365']\n",
    "df = pd.read_csv('https://raw.githubusercontent.com/lmxy0212/ML_project/master/new-york-city-airbnb-open-data/AB_NYC_2019.csv',\n",
    "                names=names,na_values='?',header=None)\n",
    "df = df.dropna()\n",
    "df.head()"
   ]
  },
  {
   "cell_type": "markdown",
   "metadata": {
    "colab_type": "text",
    "id": "5ExjjJlsaJVq"
   },
   "source": [
    "# **Formating data to be np array**"
   ]
  },
  {
   "cell_type": "code",
   "execution_count": 3,
   "metadata": {
    "colab": {
     "base_uri": "https://localhost:8080/",
     "height": 168
    },
    "colab_type": "code",
    "executionInfo": {
     "elapsed": 3413,
     "status": "ok",
     "timestamp": 1588463436419,
     "user": {
      "displayName": "Hitomi Akitsuki",
      "photoUrl": "https://lh3.googleusercontent.com/a-/AOh14Gj-LWHux3v5rLtYipRE5hfUWfqT2ja8avj4B0mh=s64",
      "userId": "15575281482611298892"
     },
     "user_tz": 240
    },
    "id": "8eHxDQUpk8tk",
    "outputId": "47649c65-34d4-4a2b-8be8-bd2a5a8aafb6"
   },
   "outputs": [
    {
     "name": "stdout",
     "output_type": "stream",
     "text": [
      "38821\n",
      "['Clean & quiet apt home by the park' 'Skylit Midtown Castle'\n",
      " 'Cozy Entire Floor of Brownstone' ... 'Seas The Moment'\n",
      " '1B-1B apartment near by Metro' 'Cozy Private Room in Bushwick, Brooklyn']\n",
      "[0.21 0.38 4.64 ... 1.   2.   1.  ]\n",
      "(38821,)\n",
      "(38821,)\n",
      "11.16\n",
      "1.3732291800829448 58.5 0.72\n"
     ]
    }
   ],
   "source": [
    "airbnb_name = np.array(df['name'][1:])\n",
    "reviews_per_month = np.array(df['reviews_per_month'][1:]).astype(np.float)\n",
    "n = np.shape(airbnb_name)[0]\n",
    "print(n)\n",
    "print(airbnb_name)\n",
    "print(np.array(reviews_per_month))\n",
    "print(np.shape(airbnb_name))\n",
    "print(np.shape(reviews_per_month))\n",
    "print(np.sort(reviews_per_month)[-50])\n",
    "print(np.mean(reviews_per_month), np.max(reviews_per_month), np.median(reviews_per_month))\n"
   ]
  },
  {
   "cell_type": "markdown",
   "metadata": {
    "colab_type": "text",
    "id": "fwCyM9p9aX6M"
   },
   "source": [
    "# **Creating bag of words for each airbnb name**"
   ]
  },
  {
   "cell_type": "code",
   "execution_count": 4,
   "metadata": {
    "colab": {
     "base_uri": "https://localhost:8080/",
     "height": 50
    },
    "colab_type": "code",
    "executionInfo": {
     "elapsed": 1308,
     "status": "ok",
     "timestamp": 1588463438577,
     "user": {
      "displayName": "Hitomi Akitsuki",
      "photoUrl": "https://lh3.googleusercontent.com/a-/AOh14Gj-LWHux3v5rLtYipRE5hfUWfqT2ja8avj4B0mh=s64",
      "userId": "15575281482611298892"
     },
     "user_tz": 240
    },
    "id": "3wr127JxlbeI",
    "outputId": "30a19495-51e8-432d-f966-8109cefcc03d"
   },
   "outputs": [
    {
     "data": {
      "text/plain": [
       "<38821x6961 sparse matrix of type '<class 'numpy.int64'>'\n",
       "\twith 222889 stored elements in Compressed Sparse Row format>"
      ]
     },
     "execution_count": 4,
     "metadata": {
      "tags": []
     },
     "output_type": "execute_result"
    }
   ],
   "source": [
    "vectorizer = CountVectorizer()\n",
    "bow = vectorizer.fit(airbnb_name)\n",
    "bow = vectorizer.transform(airbnb_name)\n",
    "bow"
   ]
  },
  {
   "cell_type": "code",
   "execution_count": 0,
   "metadata": {
    "colab": {},
    "colab_type": "code",
    "id": "Oxys6raS9rjj"
   },
   "outputs": [],
   "source": [
    "# print(bow)\n",
    "# # (seq_num, feature_num)  count\n",
    "# print(vectorizer.vocabulary_.get(\"great\")) #feature number of \"great\""
   ]
  },
  {
   "cell_type": "code",
   "execution_count": 5,
   "metadata": {
    "colab": {
     "base_uri": "https://localhost:8080/",
     "height": 151
    },
    "colab_type": "code",
    "executionInfo": {
     "elapsed": 2623,
     "status": "ok",
     "timestamp": 1588463442045,
     "user": {
      "displayName": "Hitomi Akitsuki",
      "photoUrl": "https://lh3.googleusercontent.com/a-/AOh14Gj-LWHux3v5rLtYipRE5hfUWfqT2ja8avj4B0mh=s64",
      "userId": "15575281482611298892"
     },
     "user_tz": 240
    },
    "id": "fcwxifPJ9703",
    "outputId": "0d5fbde8-602b-4d2f-f7cd-90b67f0ecfd3"
   },
   "outputs": [
    {
     "name": "stdout",
     "output_type": "stream",
     "text": [
      "[[0 0 0 ... 0 0 0]\n",
      " [0 0 0 ... 0 0 0]\n",
      " [0 0 0 ... 0 0 0]\n",
      " ...\n",
      " [0 0 0 ... 0 0 0]\n",
      " [0 0 0 ... 0 0 0]\n",
      " [0 0 0 ... 0 0 0]]\n",
      "(38821, 6961)\n"
     ]
    }
   ],
   "source": [
    "X = bow.toarray()\n",
    "print(X)\n",
    "print(np.shape(X))"
   ]
  },
  {
   "cell_type": "markdown",
   "metadata": {
    "colab_type": "text",
    "id": "RuohgQCuatD8"
   },
   "source": [
    "# **Train Test Split**"
   ]
  },
  {
   "cell_type": "code",
   "execution_count": 6,
   "metadata": {
    "colab": {
     "base_uri": "https://localhost:8080/",
     "height": 420
    },
    "colab_type": "code",
    "executionInfo": {
     "elapsed": 2157,
     "status": "ok",
     "timestamp": 1588463445058,
     "user": {
      "displayName": "Hitomi Akitsuki",
      "photoUrl": "https://lh3.googleusercontent.com/a-/AOh14Gj-LWHux3v5rLtYipRE5hfUWfqT2ja8avj4B0mh=s64",
      "userId": "15575281482611298892"
     },
     "user_tz": 240
    },
    "id": "SWODzws0_iTf",
    "outputId": "24e410e4-212f-441b-e77a-382c9627aa7a"
   },
   "outputs": [
    {
     "name": "stdout",
     "output_type": "stream",
     "text": [
      "Xtr:\n",
      " [[0 0 0 ... 0 0 0]\n",
      " [0 0 0 ... 0 0 0]\n",
      " [0 0 0 ... 0 0 0]\n",
      " ...\n",
      " [0 0 0 ... 0 0 0]\n",
      " [0 0 0 ... 0 0 0]\n",
      " [0 0 0 ... 0 0 0]] \n",
      "Xts:\n",
      " [[0 0 0 ... 0 0 0]\n",
      " [0 0 0 ... 0 0 0]\n",
      " [0 0 0 ... 0 0 0]\n",
      " ...\n",
      " [0 0 0 ... 0 0 0]\n",
      " [0 0 0 ... 0 0 0]\n",
      " [0 0 0 ... 0 0 0]] \n",
      "ytr:\n",
      " [0.11 2.34 2.   ... 0.89 0.6  1.47] \n",
      "yts:\n",
      " [1.44 0.03 0.02 ... 0.15 2.64 1.13]\n",
      "\n",
      "Xtr.shape: (25880, 6961) Xts.shape (12941, 6961)\n",
      "\n",
      "ytr.shape: (25880,) yts.shape: (12941,)\n"
     ]
    }
   ],
   "source": [
    "Xtr, Xts, ytr, yts = train_test_split(X, reviews_per_month, test_size = 1/3)\n",
    "print(\"Xtr:\\n\", Xtr, \"\\nXts:\\n\",Xts,\"\\nytr:\\n\", ytr, \"\\nyts:\\n\", yts)\n",
    "print(\"\\nXtr.shape:\", Xtr.shape, \"Xts.shape\", Xts.shape)\n",
    "print(\"\\nytr.shape:\", ytr.shape, \"yts.shape:\", yts.shape)\n",
    "ytr = ytr.astype(np.float)\n",
    "yts = yts.astype(np.float)"
   ]
  },
  {
   "cell_type": "markdown",
   "metadata": {
    "colab_type": "text",
    "id": "S4yHpt4Ea1vW"
   },
   "source": [
    "## **Using linear regression to fit the data and saving in linear_reg.p**"
   ]
  },
  {
   "cell_type": "code",
   "execution_count": 0,
   "metadata": {
    "colab": {
     "base_uri": "https://localhost:8080/",
     "height": 230
    },
    "colab_type": "code",
    "executionInfo": {
     "elapsed": 172310,
     "status": "error",
     "timestamp": 1587854284151,
     "user": {
      "displayName": "Hitomi Akitsuki",
      "photoUrl": "https://lh3.googleusercontent.com/a-/AOh14Gj-LWHux3v5rLtYipRE5hfUWfqT2ja8avj4B0mh=s64",
      "userId": "15575281482611298892"
     },
     "user_tz": 240
    },
    "id": "MOdp2GnTDBcB",
    "outputId": "725f5e81-ae24-4d42-d185-f7dae4933107"
   },
   "outputs": [
    {
     "ename": "NameError",
     "evalue": "ignored",
     "output_type": "error",
     "traceback": [
      "\u001b[0;31m---------------------------------------------------------------------------\u001b[0m",
      "\u001b[0;31mNameError\u001b[0m                                 Traceback (most recent call last)",
      "\u001b[0;32m<ipython-input-9-40ebce447a6d>\u001b[0m in \u001b[0;36m<module>\u001b[0;34m()\u001b[0m\n\u001b[1;32m      2\u001b[0m \u001b[0mregr\u001b[0m\u001b[0;34m.\u001b[0m\u001b[0mfit\u001b[0m\u001b[0;34m(\u001b[0m\u001b[0mXtr\u001b[0m\u001b[0;34m,\u001b[0m\u001b[0mytr\u001b[0m\u001b[0;34m)\u001b[0m\u001b[0;34m\u001b[0m\u001b[0;34m\u001b[0m\u001b[0m\n\u001b[1;32m      3\u001b[0m \u001b[0;32mwith\u001b[0m \u001b[0mopen\u001b[0m\u001b[0;34m(\u001b[0m \u001b[0;34m\"linear_reg.p\"\u001b[0m\u001b[0;34m,\u001b[0m \u001b[0;34m\"wb\"\u001b[0m \u001b[0;34m)\u001b[0m \u001b[0;32mas\u001b[0m \u001b[0mfp\u001b[0m\u001b[0;34m:\u001b[0m\u001b[0;34m\u001b[0m\u001b[0;34m\u001b[0m\u001b[0m\n\u001b[0;32m----> 4\u001b[0;31m     \u001b[0mpickle\u001b[0m\u001b[0;34m.\u001b[0m\u001b[0mdump\u001b[0m\u001b[0;34m(\u001b[0m \u001b[0;34m[\u001b[0m\u001b[0mregr\u001b[0m\u001b[0;34m,\u001b[0m \u001b[0mXtr\u001b[0m\u001b[0;34m,\u001b[0m \u001b[0mytr\u001b[0m\u001b[0;34m,\u001b[0m \u001b[0mXts\u001b[0m\u001b[0;34m,\u001b[0m \u001b[0myts\u001b[0m\u001b[0;34m]\u001b[0m\u001b[0;34m,\u001b[0m  \u001b[0mfp\u001b[0m\u001b[0;34m)\u001b[0m\u001b[0;34m\u001b[0m\u001b[0;34m\u001b[0m\u001b[0m\n\u001b[0m\u001b[1;32m      5\u001b[0m \u001b[0mprint\u001b[0m\u001b[0;34m(\u001b[0m\u001b[0mregr\u001b[0m\u001b[0;34m.\u001b[0m\u001b[0mintercept_\u001b[0m\u001b[0;34m)\u001b[0m\u001b[0;34m\u001b[0m\u001b[0;34m\u001b[0m\u001b[0m\n\u001b[1;32m      6\u001b[0m \u001b[0mprint\u001b[0m\u001b[0;34m(\u001b[0m\u001b[0mregr\u001b[0m\u001b[0;34m.\u001b[0m\u001b[0mcoef_\u001b[0m\u001b[0;34m)\u001b[0m\u001b[0;34m\u001b[0m\u001b[0;34m\u001b[0m\u001b[0m\n",
      "\u001b[0;31mNameError\u001b[0m: name 'pickle' is not defined"
     ]
    }
   ],
   "source": [
    "regr = linear_model.LinearRegression()\n",
    "regr.fit(Xtr,ytr)\n",
    "print(regr.intercept_)\n",
    "print(regr.coef_)\n"
   ]
  },
  {
   "cell_type": "code",
   "execution_count": 0,
   "metadata": {
    "colab": {},
    "colab_type": "code",
    "id": "LIzBwAMzfqw0"
   },
   "outputs": [],
   "source": [
    "with open( \"linear_reg.p\", \"wb\" ) as fp:\n",
    "    pickle.dump( [regr, Xtr, ytr, Xts, yts],  fp)"
   ]
  },
  {
   "cell_type": "code",
   "execution_count": 0,
   "metadata": {
    "colab": {
     "base_uri": "https://localhost:8080/",
     "height": 50
    },
    "colab_type": "code",
    "executionInfo": {
     "elapsed": 1980,
     "status": "ok",
     "timestamp": 1587854527254,
     "user": {
      "displayName": "Hitomi Akitsuki",
      "photoUrl": "https://lh3.googleusercontent.com/a-/AOh14Gj-LWHux3v5rLtYipRE5hfUWfqT2ja8avj4B0mh=s64",
      "userId": "15575281482611298892"
     },
     "user_tz": 240
    },
    "id": "SgoRxVo0Fc1Q",
    "outputId": "fcf08385-b4f9-4e59-db72-7e3f3f519624"
   },
   "outputs": [
    {
     "name": "stdout",
     "output_type": "stream",
     "text": [
      "Average loss on training data: 1.2994240550299205\n",
      "Average loss on test data: 9.864150215880753e+23\n"
     ]
    }
   ],
   "source": [
    "with open( \"linear_reg.p\", \"rb\" ) as fp:\n",
    "    regr, Xtr, ytr, Xts, yts = pickle.load(fp)\n",
    "ytr_pred = regr.predict(Xtr)\n",
    "lossm = np.linalg.norm(ytr_pred - ytr)**2\n",
    "lossm = (1/n) * np.linalg.norm(ytr_pred - ytr)**2\n",
    "print(\"Average loss on training data:\",lossm)\n",
    "yts_pred = regr.predict(Xts)\n",
    "lossm = (1/n) * np.linalg.norm(yts_pred - yts)**2\n",
    "print(\"Average loss on test data:\", lossm)\n"
   ]
  },
  {
   "cell_type": "code",
   "execution_count": 0,
   "metadata": {
    "colab": {},
    "colab_type": "code",
    "id": "2jASSU0DZ760"
   },
   "outputs": [],
   "source": []
  },
  {
   "cell_type": "markdown",
   "metadata": {
    "colab_type": "text",
    "id": "FPg565EOamaQ"
   },
   "source": [
    "# **Using Binary Classification**"
   ]
  },
  {
   "cell_type": "code",
   "execution_count": 0,
   "metadata": {
    "colab": {},
    "colab_type": "code",
    "id": "Q6JFe2Wje9ZC"
   },
   "outputs": [],
   "source": [
    "# if review_per_month > 10, we classify the airbnb as popular\n",
    "ytr = (ytr > 10).astype(int)\n",
    "yts = (yts > 10).astype(int)"
   ]
  },
  {
   "cell_type": "markdown",
   "metadata": {
    "colab_type": "text",
    "id": "7pBueS-oeFyn"
   },
   "source": [
    "## **Logistics Regression**"
   ]
  },
  {
   "cell_type": "code",
   "execution_count": 0,
   "metadata": {
    "colab": {
     "base_uri": "https://localhost:8080/",
     "height": 67
    },
    "colab_type": "code",
    "executionInfo": {
     "elapsed": 47901,
     "status": "ok",
     "timestamp": 1587938943505,
     "user": {
      "displayName": "Hitomi Akitsuki",
      "photoUrl": "https://lh3.googleusercontent.com/a-/AOh14Gj-LWHux3v5rLtYipRE5hfUWfqT2ja8avj4B0mh=s64",
      "userId": "15575281482611298892"
     },
     "user_tz": 240
    },
    "id": "E7WzRBeIax1e",
    "outputId": "42f70c1a-1807-475b-88b2-72e83e390d43"
   },
   "outputs": [
    {
     "name": "stderr",
     "output_type": "stream",
     "text": [
      "[Parallel(n_jobs=1)]: Using backend SequentialBackend with 1 concurrent workers.\n",
      "[Parallel(n_jobs=1)]: Done   1 out of   1 | elapsed:   27.3s remaining:    0.0s\n",
      "[Parallel(n_jobs=1)]: Done   1 out of   1 | elapsed:   27.3s finished\n"
     ]
    }
   ],
   "source": [
    "logreg = linear_model.LogisticRegression(verbose=10, solver='lbfgs',\\\n",
    "                                         multi_class='multinomial')\n",
    "logreg.fit(Xtr,ytr)\n",
    "with open( \"logreg.p\", \"wb\" ) as fp:\n",
    "    pickle.dump( [logreg, Xtr, ytr, Xts, yts],  fp)"
   ]
  },
  {
   "cell_type": "code",
   "execution_count": 0,
   "metadata": {
    "colab": {
     "base_uri": "https://localhost:8080/",
     "height": 84
    },
    "colab_type": "code",
    "executionInfo": {
     "elapsed": 2255,
     "status": "ok",
     "timestamp": 1587939144733,
     "user": {
      "displayName": "Hitomi Akitsuki",
      "photoUrl": "https://lh3.googleusercontent.com/a-/AOh14Gj-LWHux3v5rLtYipRE5hfUWfqT2ja8avj4B0mh=s64",
      "userId": "15575281482611298892"
     },
     "user_tz": 240
    },
    "id": "ApXPfF3Rhcoi",
    "outputId": "51bba14f-dfd4-4e6f-d4f6-9bdb0753fb72"
   },
   "outputs": [
    {
     "name": "stdout",
     "output_type": "stream",
     "text": [
      "Accuaracy for all zeros for training set = 0.998223\n",
      "Accuaracy on training set = 0.998532\n",
      "Accuaracy for all zeros for test set = 0.997295\n",
      "Accuaracy on test set = 0.997450\n"
     ]
    }
   ],
   "source": [
    "with open( \"logreg.p\", \"rb\" ) as fp:\n",
    "    logreg, Xtr, ytr, Xts, yts = pickle.load(fp)\n",
    "\n",
    "yhat_zeros = np.zeros(np.shape(Xtr)[0])\n",
    "acc_zeros = np.mean(yhat_zeros == ytr)\n",
    "print('Accuaracy for all zeros for training set = {0:f}'.format(acc_zeros))\n",
    "\n",
    "yhat_tr = logreg.predict(Xtr)\n",
    "acc_tr = np.mean(yhat_tr == ytr)\n",
    "print('Accuaracy on training set = {0:f}'.format(acc_tr))\n",
    "\n",
    "yhat_zeros = np.zeros(np.shape(Xts)[0])\n",
    "acc_zeros = np.mean(yhat_zeros == yts)\n",
    "print('Accuaracy for all zeros for test set = {0:f}'.format(acc_zeros))\n",
    "\n",
    "yhat = logreg.predict(Xts)\n",
    "acc = np.mean(yhat == yts)\n",
    "print('Accuaracy on test set = {0:f}'.format(acc))"
   ]
  },
  {
   "cell_type": "markdown",
   "metadata": {
    "colab_type": "text",
    "id": "XmK9kX48eyDZ"
   },
   "source": [
    "## **SVM**"
   ]
  },
  {
   "cell_type": "code",
   "execution_count": 0,
   "metadata": {
    "colab": {},
    "colab_type": "code",
    "id": "xK-46QmLe1sm"
   },
   "outputs": [],
   "source": [
    "svc = svm.SVC(probability=False,  kernel=\"rbf\", C=10, gamma=.01)\n",
    "svc.fit(Xtr,ytr)\n",
    "with open( \"svm.p\", \"wb\" ) as fp:\n",
    "    pickle.dump( [svc, Xtr, ytr, Xts, yts],  fp)"
   ]
  },
  {
   "cell_type": "code",
   "execution_count": 9,
   "metadata": {
    "colab": {
     "base_uri": "https://localhost:8080/",
     "height": 84
    },
    "colab_type": "code",
    "executionInfo": {
     "elapsed": 288203,
     "status": "ok",
     "timestamp": 1588464095458,
     "user": {
      "displayName": "Hitomi Akitsuki",
      "photoUrl": "https://lh3.googleusercontent.com/a-/AOh14Gj-LWHux3v5rLtYipRE5hfUWfqT2ja8avj4B0mh=s64",
      "userId": "15575281482611298892"
     },
     "user_tz": 240
    },
    "id": "V86dqkrWjkSv",
    "outputId": "ebd24dbe-f251-4638-ef11-d845c8312a3c"
   },
   "outputs": [
    {
     "name": "stdout",
     "output_type": "stream",
     "text": [
      "Accuaracy for all zeros for training set = 0.997798\n",
      "Accuaracy on training set = 0.999034\n",
      "Accuaracy for all zeros for test set = 0.998145\n",
      "Accuaracy on test set = 0.998223\n"
     ]
    }
   ],
   "source": [
    "with open( \"svm.p\", \"rb\" ) as fp:\n",
    "    svc, Xtr, ytr, Xts, yts = pickle.load(fp)\n",
    "\n",
    "yhat_zeros = np.zeros(np.shape(Xtr)[0])\n",
    "acc_zeros = np.mean(yhat_zeros == ytr)\n",
    "print('Accuaracy for all zeros for training set = {0:f}'.format(acc_zeros))\n",
    "\n",
    "yhat_tr = svc.predict(Xtr)\n",
    "acc_tr = np.mean(yhat_tr == ytr)\n",
    "print('Accuaracy on training set = {0:f}'.format(acc_tr))\n",
    "\n",
    "yhat_zeros = np.zeros(np.shape(Xts)[0])\n",
    "acc_zeros = np.mean(yhat_zeros == yts)\n",
    "print('Accuaracy for all zeros for test set = {0:f}'.format(acc_zeros))\n",
    "\n",
    "yhat = svc.predict(Xts)\n",
    "acc = np.mean(yhat == yts)\n",
    "print('Accuaracy on test set = {0:f}'.format(acc))"
   ]
  },
  {
   "cell_type": "code",
   "execution_count": 0,
   "metadata": {
    "colab": {},
    "colab_type": "code",
    "id": "ATSE-36J2wND"
   },
   "outputs": [],
   "source": [
    "gamma = [.1, .05,.02,.01,.005]\n",
    "C = [.01,.1,1,10]\n",
    "\n",
    "# TODO\n",
    "acc_min = np.array([-np.inf, 0 , 0])\n",
    "for g in gamma:\n",
    "  for c in C:\n",
    "    # SVM\n",
    "    t = time.time()\n",
    "    svc = svm.SVC(kernel=\"rbf\", C=c, gamma=g)\n",
    "    svc.fit(Xtr1,ytr8)\n",
    "    ysvm =  svc.predict(Xts1)\n",
    "    elapsed = time.time() - t\n",
    "    acc = np.mean(ysvm == yts8)\n",
    "    if acc > acc_min[0]:\n",
    "      acc_min[0] = acc\n",
    "      acc_min[1] = g\n",
    "      acc_min[2] = c\n",
    "    print(\"gamma =\",g,\", c =\",c,\": accuracy =\", acc, \"time in sec =\", elapsed)\n",
    "print(\"minimum error\", 1-acc_min[0], \"is when gamma =\",acc_min[1],\"and C =\",acc_min[2])"
   ]
  },
  {
   "cell_type": "markdown",
   "metadata": {
    "colab_type": "text",
    "id": "c5fwiTrQe2HF"
   },
   "source": [
    "## **Neural Network**"
   ]
  },
  {
   "cell_type": "code",
   "execution_count": 0,
   "metadata": {
    "colab": {},
    "colab_type": "code",
    "id": "ZYbuxO2me7Qx"
   },
   "outputs": [],
   "source": [
    "from tensorflow.keras.models import Model, Sequential\n",
    "from tensorflow.keras.layers import Dense, Activation\n",
    "import tensorflow.keras.backend as K\n",
    "from tensorflow.keras import optimizers\n",
    "from tensorflow.keras.models import load_model\n",
    "\n",
    "K.clear_session()"
   ]
  },
  {
   "cell_type": "code",
   "execution_count": 0,
   "metadata": {
    "colab": {
     "base_uri": "https://localhost:8080/",
     "height": 218
    },
    "colab_type": "code",
    "executionInfo": {
     "elapsed": 229,
     "status": "ok",
     "timestamp": 1587941929218,
     "user": {
      "displayName": "Hitomi Akitsuki",
      "photoUrl": "https://lh3.googleusercontent.com/a-/AOh14Gj-LWHux3v5rLtYipRE5hfUWfqT2ja8avj4B0mh=s64",
      "userId": "15575281482611298892"
     },
     "user_tz": 240
    },
    "id": "uaphkGpsn1YF",
    "outputId": "76c57312-35c1-4a50-e6ec-6b2a95464a69"
   },
   "outputs": [
    {
     "name": "stdout",
     "output_type": "stream",
     "text": [
      "Model: \"sequential_4\"\n",
      "_________________________________________________________________\n",
      "Layer (type)                 Output Shape              Param #   \n",
      "=================================================================\n",
      "hidden (Dense)               (None, 4)                 27848     \n",
      "_________________________________________________________________\n",
      "output (Dense)               (None, 1)                 5         \n",
      "=================================================================\n",
      "Total params: 27,853\n",
      "Trainable params: 27,853\n",
      "Non-trainable params: 0\n",
      "_________________________________________________________________\n"
     ]
    }
   ],
   "source": [
    "model = Sequential()\n",
    "model.add(Dense(units=4, input_shape=(np.shape(Xtr)[1],), activation='sigmoid', name='hidden'))\n",
    "model.add(Dense(units=1, activation='sigmoid', name='output'))\n",
    "model.summary()"
   ]
  },
  {
   "cell_type": "code",
   "execution_count": 0,
   "metadata": {
    "colab": {
     "base_uri": "https://localhost:8080/",
     "height": 1000
    },
    "colab_type": "code",
    "executionInfo": {
     "elapsed": 133793,
     "status": "ok",
     "timestamp": 1587942433645,
     "user": {
      "displayName": "Hitomi Akitsuki",
      "photoUrl": "https://lh3.googleusercontent.com/a-/AOh14Gj-LWHux3v5rLtYipRE5hfUWfqT2ja8avj4B0mh=s64",
      "userId": "15575281482611298892"
     },
     "user_tz": 240
    },
    "id": "ZDy166y0qVGw",
    "outputId": "fdf05e07-9162-4c93-ec02-c1e882b38e75"
   },
   "outputs": [
    {
     "name": "stdout",
     "output_type": "stream",
     "text": [
      "Epoch 1/100\n",
      "259/259 [==============================] - 1s 5ms/step - loss: 0.0028 - accuracy: 0.9990\n",
      "Epoch 2/100\n",
      "259/259 [==============================] - 1s 5ms/step - loss: 0.0023 - accuracy: 0.9993\n",
      "Epoch 3/100\n",
      "259/259 [==============================] - 1s 5ms/step - loss: 0.0023 - accuracy: 0.9992\n",
      "Epoch 4/100\n",
      "259/259 [==============================] - 1s 5ms/step - loss: 0.0021 - accuracy: 0.9993\n",
      "Epoch 5/100\n",
      "259/259 [==============================] - 1s 5ms/step - loss: 0.0020 - accuracy: 0.9992\n",
      "Epoch 6/100\n",
      "259/259 [==============================] - 1s 5ms/step - loss: 0.0019 - accuracy: 0.9993\n",
      "Epoch 7/100\n",
      "259/259 [==============================] - 1s 5ms/step - loss: 0.0018 - accuracy: 0.9993\n",
      "Epoch 8/100\n",
      "259/259 [==============================] - 1s 5ms/step - loss: 0.0017 - accuracy: 0.9993\n",
      "Epoch 9/100\n",
      "259/259 [==============================] - 1s 5ms/step - loss: 0.0017 - accuracy: 0.9994\n",
      "Epoch 10/100\n",
      "259/259 [==============================] - 1s 5ms/step - loss: 0.0016 - accuracy: 0.9994\n",
      "Epoch 11/100\n",
      "259/259 [==============================] - 1s 5ms/step - loss: 0.0015 - accuracy: 0.9995\n",
      "Epoch 12/100\n",
      "259/259 [==============================] - 1s 5ms/step - loss: 0.0015 - accuracy: 0.9994\n",
      "Epoch 13/100\n",
      "259/259 [==============================] - 1s 5ms/step - loss: 0.0014 - accuracy: 0.9994\n",
      "Epoch 14/100\n",
      "259/259 [==============================] - 1s 5ms/step - loss: 0.0014 - accuracy: 0.9995\n",
      "Epoch 15/100\n",
      "259/259 [==============================] - 1s 5ms/step - loss: 0.0013 - accuracy: 0.9995\n",
      "Epoch 16/100\n",
      "259/259 [==============================] - 1s 5ms/step - loss: 0.0012 - accuracy: 0.9995\n",
      "Epoch 17/100\n",
      "259/259 [==============================] - 1s 5ms/step - loss: 0.0013 - accuracy: 0.9995\n",
      "Epoch 18/100\n",
      "259/259 [==============================] - 1s 5ms/step - loss: 0.0012 - accuracy: 0.9995\n",
      "Epoch 19/100\n",
      "259/259 [==============================] - 1s 5ms/step - loss: 0.0012 - accuracy: 0.9995\n",
      "Epoch 20/100\n",
      "259/259 [==============================] - 1s 5ms/step - loss: 0.0011 - accuracy: 0.9995\n",
      "Epoch 21/100\n",
      "259/259 [==============================] - 1s 5ms/step - loss: 0.0011 - accuracy: 0.9995\n",
      "Epoch 22/100\n",
      "259/259 [==============================] - 1s 5ms/step - loss: 0.0010 - accuracy: 0.9996\n",
      "Epoch 23/100\n",
      "259/259 [==============================] - 1s 5ms/step - loss: 0.0010 - accuracy: 0.9995\n",
      "Epoch 24/100\n",
      "259/259 [==============================] - 1s 5ms/step - loss: 0.0011 - accuracy: 0.9995\n",
      "Epoch 25/100\n",
      "259/259 [==============================] - 1s 5ms/step - loss: 0.0010 - accuracy: 0.9996\n",
      "Epoch 26/100\n",
      "259/259 [==============================] - 1s 5ms/step - loss: 9.8949e-04 - accuracy: 0.9995\n",
      "Epoch 27/100\n",
      "259/259 [==============================] - 1s 5ms/step - loss: 9.2435e-04 - accuracy: 0.9995\n",
      "Epoch 28/100\n",
      "259/259 [==============================] - 1s 5ms/step - loss: 8.3926e-04 - accuracy: 0.9996\n",
      "Epoch 29/100\n",
      "259/259 [==============================] - 1s 5ms/step - loss: 8.2492e-04 - accuracy: 0.9996\n",
      "Epoch 30/100\n",
      "259/259 [==============================] - 1s 5ms/step - loss: 7.7963e-04 - accuracy: 0.9997\n",
      "Epoch 31/100\n",
      "259/259 [==============================] - 1s 5ms/step - loss: 8.2126e-04 - accuracy: 0.9996\n",
      "Epoch 32/100\n",
      "259/259 [==============================] - 1s 5ms/step - loss: 7.7253e-04 - accuracy: 0.9997\n",
      "Epoch 33/100\n",
      "259/259 [==============================] - 1s 5ms/step - loss: 7.4553e-04 - accuracy: 0.9997\n",
      "Epoch 34/100\n",
      "259/259 [==============================] - 1s 5ms/step - loss: 7.5770e-04 - accuracy: 0.9997\n",
      "Epoch 35/100\n",
      "259/259 [==============================] - 1s 5ms/step - loss: 7.2992e-04 - accuracy: 0.9997\n",
      "Epoch 36/100\n",
      "259/259 [==============================] - 1s 5ms/step - loss: 6.8231e-04 - accuracy: 0.9997\n",
      "Epoch 37/100\n",
      "259/259 [==============================] - 1s 5ms/step - loss: 7.1149e-04 - accuracy: 0.9996\n",
      "Epoch 38/100\n",
      "259/259 [==============================] - 1s 5ms/step - loss: 6.5573e-04 - accuracy: 0.9997\n",
      "Epoch 39/100\n",
      "259/259 [==============================] - 1s 5ms/step - loss: 6.9582e-04 - accuracy: 0.9997\n",
      "Epoch 40/100\n",
      "259/259 [==============================] - 1s 5ms/step - loss: 6.7669e-04 - accuracy: 0.9997\n",
      "Epoch 41/100\n",
      "259/259 [==============================] - 1s 5ms/step - loss: 6.3080e-04 - accuracy: 0.9998\n",
      "Epoch 42/100\n",
      "259/259 [==============================] - 1s 5ms/step - loss: 5.8339e-04 - accuracy: 0.9998\n",
      "Epoch 43/100\n",
      "259/259 [==============================] - 1s 5ms/step - loss: 6.2010e-04 - accuracy: 0.9997\n",
      "Epoch 44/100\n",
      "259/259 [==============================] - 1s 5ms/step - loss: 6.1323e-04 - accuracy: 0.9997\n",
      "Epoch 45/100\n",
      "259/259 [==============================] - 1s 5ms/step - loss: 5.6568e-04 - accuracy: 0.9998\n",
      "Epoch 46/100\n",
      "259/259 [==============================] - 1s 5ms/step - loss: 5.2892e-04 - accuracy: 0.9997\n",
      "Epoch 47/100\n",
      "259/259 [==============================] - 1s 6ms/step - loss: 5.3287e-04 - accuracy: 0.9997\n",
      "Epoch 48/100\n",
      "259/259 [==============================] - 1s 6ms/step - loss: 5.7752e-04 - accuracy: 0.9997\n",
      "Epoch 49/100\n",
      "259/259 [==============================] - 1s 6ms/step - loss: 5.7300e-04 - accuracy: 0.9998\n",
      "Epoch 50/100\n",
      "259/259 [==============================] - 1s 6ms/step - loss: 5.1847e-04 - accuracy: 0.9997\n",
      "Epoch 51/100\n",
      "259/259 [==============================] - 1s 5ms/step - loss: 5.2230e-04 - accuracy: 0.9998\n",
      "Epoch 52/100\n",
      "259/259 [==============================] - 1s 6ms/step - loss: 5.1827e-04 - accuracy: 0.9998\n",
      "Epoch 53/100\n",
      "259/259 [==============================] - 1s 6ms/step - loss: 5.4925e-04 - accuracy: 0.9997\n",
      "Epoch 54/100\n",
      "259/259 [==============================] - 1s 5ms/step - loss: 5.1090e-04 - accuracy: 0.9998\n",
      "Epoch 55/100\n",
      "259/259 [==============================] - 1s 5ms/step - loss: 4.7300e-04 - accuracy: 0.9998\n",
      "Epoch 56/100\n",
      "259/259 [==============================] - 1s 5ms/step - loss: 4.7599e-04 - accuracy: 0.9998\n",
      "Epoch 57/100\n",
      "259/259 [==============================] - 1s 5ms/step - loss: 4.9764e-04 - accuracy: 0.9997\n",
      "Epoch 58/100\n",
      "259/259 [==============================] - 1s 5ms/step - loss: 4.7541e-04 - accuracy: 0.9998\n",
      "Epoch 59/100\n",
      "259/259 [==============================] - 1s 5ms/step - loss: 4.8706e-04 - accuracy: 0.9998\n",
      "Epoch 60/100\n",
      "259/259 [==============================] - 1s 5ms/step - loss: 4.9298e-04 - accuracy: 0.9997\n",
      "Epoch 61/100\n",
      "259/259 [==============================] - 1s 5ms/step - loss: 4.5021e-04 - accuracy: 0.9998\n",
      "Epoch 62/100\n",
      "259/259 [==============================] - 1s 5ms/step - loss: 4.1338e-04 - accuracy: 0.9998\n",
      "Epoch 63/100\n",
      "259/259 [==============================] - 1s 5ms/step - loss: 4.5534e-04 - accuracy: 0.9998\n",
      "Epoch 64/100\n",
      "259/259 [==============================] - 1s 5ms/step - loss: 4.4464e-04 - accuracy: 0.9998\n",
      "Epoch 65/100\n",
      "259/259 [==============================] - 1s 5ms/step - loss: 4.3016e-04 - accuracy: 0.9998\n",
      "Epoch 66/100\n",
      "259/259 [==============================] - 1s 5ms/step - loss: 4.1933e-04 - accuracy: 0.9998\n",
      "Epoch 67/100\n",
      "259/259 [==============================] - 1s 5ms/step - loss: 4.2034e-04 - accuracy: 0.9998\n",
      "Epoch 68/100\n",
      "259/259 [==============================] - 1s 5ms/step - loss: 4.0793e-04 - accuracy: 0.9998\n",
      "Epoch 69/100\n",
      "259/259 [==============================] - 1s 5ms/step - loss: 3.9432e-04 - accuracy: 0.9998\n",
      "Epoch 70/100\n",
      "259/259 [==============================] - 1s 5ms/step - loss: 4.0602e-04 - accuracy: 0.9998\n",
      "Epoch 71/100\n",
      "259/259 [==============================] - 1s 5ms/step - loss: 3.8430e-04 - accuracy: 0.9998\n",
      "Epoch 72/100\n",
      "259/259 [==============================] - 1s 5ms/step - loss: 3.8752e-04 - accuracy: 0.9998\n",
      "Epoch 73/100\n",
      "259/259 [==============================] - 1s 5ms/step - loss: 3.6036e-04 - accuracy: 0.9998\n",
      "Epoch 74/100\n",
      "259/259 [==============================] - 1s 5ms/step - loss: 3.9402e-04 - accuracy: 0.9998\n",
      "Epoch 75/100\n",
      "259/259 [==============================] - 1s 5ms/step - loss: 3.9049e-04 - accuracy: 0.9998\n",
      "Epoch 76/100\n",
      "259/259 [==============================] - 1s 5ms/step - loss: 3.7618e-04 - accuracy: 0.9998\n",
      "Epoch 77/100\n",
      "259/259 [==============================] - 1s 5ms/step - loss: 3.5562e-04 - accuracy: 0.9998\n",
      "Epoch 78/100\n",
      "259/259 [==============================] - 1s 5ms/step - loss: 3.9277e-04 - accuracy: 0.9998\n",
      "Epoch 79/100\n",
      "259/259 [==============================] - 1s 5ms/step - loss: 3.4269e-04 - accuracy: 0.9998\n",
      "Epoch 80/100\n",
      "259/259 [==============================] - 1s 5ms/step - loss: 3.6005e-04 - accuracy: 0.9998\n",
      "Epoch 81/100\n",
      "259/259 [==============================] - 1s 5ms/step - loss: 3.7681e-04 - accuracy: 0.9998\n",
      "Epoch 82/100\n",
      "259/259 [==============================] - 1s 5ms/step - loss: 3.6084e-04 - accuracy: 0.9998\n",
      "Epoch 83/100\n",
      "259/259 [==============================] - 1s 5ms/step - loss: 3.4471e-04 - accuracy: 0.9998\n",
      "Epoch 84/100\n",
      "259/259 [==============================] - 1s 5ms/step - loss: 3.5396e-04 - accuracy: 0.9998\n",
      "Epoch 85/100\n",
      "259/259 [==============================] - 1s 5ms/step - loss: 3.5112e-04 - accuracy: 0.9998\n",
      "Epoch 86/100\n",
      "259/259 [==============================] - 1s 5ms/step - loss: 3.4356e-04 - accuracy: 0.9998\n",
      "Epoch 87/100\n",
      "259/259 [==============================] - 1s 5ms/step - loss: 3.8308e-04 - accuracy: 0.9998\n",
      "Epoch 88/100\n",
      "259/259 [==============================] - 1s 5ms/step - loss: 3.5823e-04 - accuracy: 0.9998\n",
      "Epoch 89/100\n",
      "259/259 [==============================] - 1s 5ms/step - loss: 3.3004e-04 - accuracy: 0.9998\n",
      "Epoch 90/100\n",
      "259/259 [==============================] - 1s 5ms/step - loss: 3.3114e-04 - accuracy: 0.9998\n",
      "Epoch 91/100\n",
      "259/259 [==============================] - 1s 5ms/step - loss: 3.2615e-04 - accuracy: 0.9998\n",
      "Epoch 92/100\n",
      "259/259 [==============================] - 1s 5ms/step - loss: 3.4387e-04 - accuracy: 0.9998\n",
      "Epoch 93/100\n",
      "259/259 [==============================] - 1s 5ms/step - loss: 3.3627e-04 - accuracy: 0.9998\n",
      "Epoch 94/100\n",
      "259/259 [==============================] - 1s 5ms/step - loss: 3.1075e-04 - accuracy: 0.9998\n",
      "Epoch 95/100\n",
      "259/259 [==============================] - 1s 5ms/step - loss: 3.2465e-04 - accuracy: 0.9998\n",
      "Epoch 96/100\n",
      "259/259 [==============================] - 1s 5ms/step - loss: 3.0477e-04 - accuracy: 0.9998\n",
      "Epoch 97/100\n",
      "259/259 [==============================] - 1s 5ms/step - loss: 3.2081e-04 - accuracy: 0.9998\n",
      "Epoch 98/100\n",
      "259/259 [==============================] - 1s 5ms/step - loss: 3.3163e-04 - accuracy: 0.9998\n",
      "Epoch 99/100\n",
      "259/259 [==============================] - 1s 5ms/step - loss: 3.3657e-04 - accuracy: 0.9998\n",
      "Epoch 100/100\n",
      "259/259 [==============================] - 1s 5ms/step - loss: 3.1094e-04 - accuracy: 0.9998\n"
     ]
    }
   ],
   "source": [
    "opt = optimizers.Adam(lr=0.01)\n",
    "model.compile(optimizer=opt,\n",
    "              loss='binary_crossentropy',\n",
    "              metrics=['accuracy'])\n",
    "hist = model.fit(Xtr, ytr, epochs=100, batch_size=100)\n",
    "model.save(\"NN_mod.h5\")\n"
   ]
  },
  {
   "cell_type": "code",
   "execution_count": 0,
   "metadata": {
    "colab": {
     "base_uri": "https://localhost:8080/",
     "height": 84
    },
    "colab_type": "code",
    "executionInfo": {
     "elapsed": 4750,
     "status": "ok",
     "timestamp": 1587942883652,
     "user": {
      "displayName": "Hitomi Akitsuki",
      "photoUrl": "https://lh3.googleusercontent.com/a-/AOh14Gj-LWHux3v5rLtYipRE5hfUWfqT2ja8avj4B0mh=s64",
      "userId": "15575281482611298892"
     },
     "user_tz": 240
    },
    "id": "CYGj5c6CsA2x",
    "outputId": "2e62945e-bc16-4074-e3c9-ee0a70e88c87"
   },
   "outputs": [
    {
     "name": "stdout",
     "output_type": "stream",
     "text": [
      "809/809 [==============================] - 1s 2ms/step - loss: 2.6152e-04 - accuracy: 0.9998\n",
      "Accuaracy on training set = 0.999845\n",
      "405/405 [==============================] - 1s 2ms/step - loss: 0.0463 - accuracy: 0.9946\n",
      "Accuaracy on test set = 0.994591\n"
     ]
    }
   ],
   "source": [
    "model = load_model(\"NN_mod.h5\")\n",
    "# yhat_tr = model.predict(Xtr)\n",
    "score, acc_tr = model.evaluate(Xtr, ytr, verbose=1)\n",
    "print(\"Accuaracy on training set = %f\" % acc_tr)\n",
    "\n",
    "# yhat = model.predict(Xts)\n",
    "score, acc = model.evaluate(Xts, yts, verbose=1)\n",
    "print(\"Accuaracy on test set = %f\" % acc)\n"
   ]
  },
  {
   "cell_type": "code",
   "execution_count": 0,
   "metadata": {
    "colab": {},
    "colab_type": "code",
    "id": "AFH4TT1juHG6"
   },
   "outputs": [],
   "source": []
  },
  {
   "cell_type": "markdown",
   "metadata": {
    "colab_type": "text",
    "id": "WN8BMSXl9mss"
   },
   "source": [
    "# **Word Embedding**"
   ]
  },
  {
   "cell_type": "code",
   "execution_count": 20,
   "metadata": {
    "colab": {
     "base_uri": "https://localhost:8080/",
     "height": 70,
     "resources": {
      "http://localhost:8080/nbextensions/google.colab/files.js": {
       "data": "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",
       "headers": [
        [
         "content-type",
         "application/javascript"
        ]
       ],
       "ok": true,
       "status": 200,
       "status_text": ""
      }
     }
    },
    "colab_type": "code",
    "executionInfo": {
     "elapsed": 1370030,
     "status": "ok",
     "timestamp": 1588468902000,
     "user": {
      "displayName": "Hitomi Akitsuki",
      "photoUrl": "https://lh3.googleusercontent.com/a-/AOh14Gj-LWHux3v5rLtYipRE5hfUWfqT2ja8avj4B0mh=s64",
      "userId": "15575281482611298892"
     },
     "user_tz": 240
    },
    "id": "_3j5NaUz9rG4",
    "outputId": "147223eb-7ae0-4b10-a075-c898d794404a"
   },
   "outputs": [
    {
     "data": {
      "text/html": [
       "\n",
       "     <input type=\"file\" id=\"files-ee3073f4-aba9-43bc-aed7-d13714ae338e\" name=\"files[]\" multiple disabled />\n",
       "     <output id=\"result-ee3073f4-aba9-43bc-aed7-d13714ae338e\">\n",
       "      Upload widget is only available when the cell has been executed in the\n",
       "      current browser session. Please rerun this cell to enable.\n",
       "      </output>\n",
       "      <script src=\"/nbextensions/google.colab/files.js\"></script> "
      ],
      "text/plain": [
       "<IPython.core.display.HTML object>"
      ]
     },
     "metadata": {
      "tags": []
     },
     "output_type": "display_data"
    },
    {
     "name": "stdout",
     "output_type": "stream",
     "text": [
      "Saving glove.6B.50d.txt to glove.6B.50d.txt\n"
     ]
    }
   ],
   "source": [
    "from google.colab import files\n",
    "uploaded = files.upload()"
   ]
  },
  {
   "cell_type": "code",
   "execution_count": 1,
   "metadata": {
    "colab": {
     "base_uri": "https://localhost:8080/",
     "height": 230
    },
    "colab_type": "code",
    "executionInfo": {
     "elapsed": 567,
     "status": "error",
     "timestamp": 1588617089023,
     "user": {
      "displayName": "Hitomi Akitsuki",
      "photoUrl": "https://lh3.googleusercontent.com/a-/AOh14Gj-LWHux3v5rLtYipRE5hfUWfqT2ja8avj4B0mh=s64",
      "userId": "15575281482611298892"
     },
     "user_tz": 240
    },
    "id": "RIvXJkYG-BXL",
    "outputId": "ba382a2d-43fe-4c3f-bab4-f884222d3afb"
   },
   "outputs": [
    {
     "ename": "NameError",
     "evalue": "ignored",
     "output_type": "error",
     "traceback": [
      "\u001b[0;31m---------------------------------------------------------------------------\u001b[0m",
      "\u001b[0;31mNameError\u001b[0m                                 Traceback (most recent call last)",
      "\u001b[0;32m<ipython-input-1-d8ae52b48ce9>\u001b[0m in \u001b[0;36m<module>\u001b[0;34m()\u001b[0m\n\u001b[1;32m      1\u001b[0m \u001b[0mfile_name\u001b[0m \u001b[0;34m=\u001b[0m \u001b[0;34m\"glove.6B.50d.txt\"\u001b[0m\u001b[0;34m\u001b[0m\u001b[0;34m\u001b[0m\u001b[0m\n\u001b[1;32m      2\u001b[0m \u001b[0;34m\u001b[0m\u001b[0m\n\u001b[0;32m----> 3\u001b[0;31m \u001b[0mdata\u001b[0m \u001b[0;34m=\u001b[0m \u001b[0muploaded\u001b[0m\u001b[0;34m[\u001b[0m\u001b[0mfile_name\u001b[0m\u001b[0;34m]\u001b[0m\u001b[0;34m.\u001b[0m\u001b[0mdecode\u001b[0m\u001b[0;34m(\u001b[0m\u001b[0;34m\"utf-8\"\u001b[0m\u001b[0;34m)\u001b[0m\u001b[0;34m.\u001b[0m\u001b[0msplit\u001b[0m\u001b[0;34m(\u001b[0m\u001b[0;34m\"\\r\\n\"\u001b[0m\u001b[0;34m)\u001b[0m\u001b[0;34m\u001b[0m\u001b[0;34m\u001b[0m\u001b[0m\n\u001b[0m\u001b[1;32m      4\u001b[0m \u001b[0;34m\u001b[0m\u001b[0m\n\u001b[1;32m      5\u001b[0m \u001b[0;32mfor\u001b[0m \u001b[0mi\u001b[0m \u001b[0;32min\u001b[0m \u001b[0mrange\u001b[0m\u001b[0;34m(\u001b[0m\u001b[0mlen\u001b[0m\u001b[0;34m(\u001b[0m\u001b[0mdata\u001b[0m\u001b[0;34m)\u001b[0m\u001b[0;34m)\u001b[0m\u001b[0;34m:\u001b[0m\u001b[0;34m\u001b[0m\u001b[0;34m\u001b[0m\u001b[0m\n",
      "\u001b[0;31mNameError\u001b[0m: name 'uploaded' is not defined"
     ]
    }
   ],
   "source": [
    "file_name = \"glove.6B.50d.txt\"\n",
    "\n",
    "data = uploaded[file_name].decode(\"utf-8\").split(\"\\r\\n\")\n",
    "\n",
    "for i in range(len(data)):\n",
    "  data[i] = data[i].split(\",\")"
   ]
  },
  {
   "cell_type": "code",
   "execution_count": 0,
   "metadata": {
    "colab": {},
    "colab_type": "code",
    "id": "JS-_5Ft3EHNs"
   },
   "outputs": [],
   "source": [
    "# import pandas as pd\n",
    "# import io\n",
    "# # file_name = \"glove.6B.50d.txt\"\n",
    "# io.StringIO(uploaded[file_name].decode(\"utf-8\"))\n",
    "# pd.read_csv(io.StringIO(uploaded[file_name].decode(\"utf-8\")))\n"
   ]
  },
  {
   "cell_type": "code",
   "execution_count": 29,
   "metadata": {
    "colab": {
     "base_uri": "https://localhost:8080/",
     "height": 185
    },
    "colab_type": "code",
    "executionInfo": {
     "elapsed": 9014,
     "status": "ok",
     "timestamp": 1588472784932,
     "user": {
      "displayName": "Hitomi Akitsuki",
      "photoUrl": "https://lh3.googleusercontent.com/a-/AOh14Gj-LWHux3v5rLtYipRE5hfUWfqT2ja8avj4B0mh=s64",
      "userId": "15575281482611298892"
     },
     "user_tz": 240
    },
    "id": "QrdQxD_sVoNL",
    "outputId": "05e6c00b-31e4-462b-e9df-7a34ce35d098"
   },
   "outputs": [
    {
     "name": "stderr",
     "output_type": "stream",
     "text": [
      "IOPub data rate exceeded.\n",
      "The notebook server will temporarily stop sending output\n",
      "to the client in order to avoid crashing it.\n",
      "To change this limit, set the config variable\n",
      "`--NotebookApp.iopub_data_rate_limit`.\n",
      "\n",
      "Current values:\n",
      "NotebookApp.iopub_data_rate_limit=1000000.0 (bytes/sec)\n",
      "NotebookApp.rate_limit_window=3.0 (secs)\n",
      "\n"
     ]
    }
   ],
   "source": [
    "print(data)"
   ]
  },
  {
   "cell_type": "code",
   "execution_count": 0,
   "metadata": {
    "colab": {},
    "colab_type": "code",
    "id": "nJmT6TGPWYb5"
   },
   "outputs": [],
   "source": []
  }
 ],
 "metadata": {
  "colab": {
   "authorship_tag": "ABX9TyPvgD2NBfJA8w7jYqVg+DAc",
   "collapsed_sections": [
    "S4yHpt4Ea1vW"
   ],
   "machine_shape": "hm",
   "name": "ml_project.ipynb",
   "provenance": []
  },
  "kernelspec": {
   "display_name": "Python 3",
   "language": "python",
   "name": "python3"
  },
  "language_info": {
   "codemirror_mode": {
    "name": "ipython",
    "version": 3
   },
   "file_extension": ".py",
   "mimetype": "text/x-python",
   "name": "python",
   "nbconvert_exporter": "python",
   "pygments_lexer": "ipython3",
   "version": "3.7.3"
  }
 },
 "nbformat": 4,
 "nbformat_minor": 1
}
